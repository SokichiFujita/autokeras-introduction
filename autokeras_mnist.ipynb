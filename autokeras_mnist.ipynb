{
  "nbformat": 4,
  "nbformat_minor": 0,
  "metadata": {
    "colab": {
      "name": "autokeras-mnist.ipynb",
      "provenance": [],
      "collapsed_sections": [],
      "toc_visible": true,
      "authorship_tag": "ABX9TyNSCR9aVGn4uxprTFTuSvdD",
      "include_colab_link": true
    },
    "kernelspec": {
      "name": "python3",
      "display_name": "Python 3"
    },
    "accelerator": "GPU"
  },
  "cells": [
    {
      "cell_type": "markdown",
      "metadata": {
        "id": "view-in-github",
        "colab_type": "text"
      },
      "source": [
        "<a href=\"https://colab.research.google.com/github/SokichiFujita/autokeras-introduction/blob/master/autokeras_mnist.ipynb\" target=\"_parent\"><img src=\"https://colab.research.google.com/assets/colab-badge.svg\" alt=\"Open In Colab\"/></a>"
      ]
    },
    {
      "cell_type": "code",
      "metadata": {
        "id": "gNruJhWhjm_c",
        "colab_type": "code",
        "outputId": "008c0177-46e4-467c-a6b1-9f54fc367163",
        "colab": {
          "base_uri": "https://localhost:8080/",
          "height": 1000
        }
      },
      "source": [
        "!pip install tensorflow===2.1.0\n",
        "!pip install autokeras===1.0.1"
      ],
      "execution_count": 0,
      "outputs": [
        {
          "output_type": "stream",
          "text": [
            "Requirement already satisfied: tensorflow===2.1.0 in /usr/local/lib/python3.6/dist-packages (2.1.0)\n",
            "Requirement already satisfied: tensorflow-estimator<2.2.0,>=2.1.0rc0 in /usr/local/lib/python3.6/dist-packages (from tensorflow===2.1.0) (2.1.0)\n",
            "Requirement already satisfied: numpy<2.0,>=1.16.0 in /usr/local/lib/python3.6/dist-packages (from tensorflow===2.1.0) (1.17.5)\n",
            "Requirement already satisfied: absl-py>=0.7.0 in /usr/local/lib/python3.6/dist-packages (from tensorflow===2.1.0) (0.9.0)\n",
            "Requirement already satisfied: opt-einsum>=2.3.2 in /usr/local/lib/python3.6/dist-packages (from tensorflow===2.1.0) (3.1.0)\n",
            "Requirement already satisfied: protobuf>=3.8.0 in /usr/local/lib/python3.6/dist-packages (from tensorflow===2.1.0) (3.10.0)\n",
            "Requirement already satisfied: google-pasta>=0.1.6 in /usr/local/lib/python3.6/dist-packages (from tensorflow===2.1.0) (0.1.8)\n",
            "Requirement already satisfied: grpcio>=1.8.6 in /usr/local/lib/python3.6/dist-packages (from tensorflow===2.1.0) (1.27.1)\n",
            "Requirement already satisfied: astor>=0.6.0 in /usr/local/lib/python3.6/dist-packages (from tensorflow===2.1.0) (0.8.1)\n",
            "Requirement already satisfied: gast==0.2.2 in /usr/local/lib/python3.6/dist-packages (from tensorflow===2.1.0) (0.2.2)\n",
            "Requirement already satisfied: keras-applications>=1.0.8 in /usr/local/lib/python3.6/dist-packages (from tensorflow===2.1.0) (1.0.8)\n",
            "Requirement already satisfied: tensorboard<2.2.0,>=2.1.0 in /usr/local/lib/python3.6/dist-packages (from tensorflow===2.1.0) (2.1.0)\n",
            "Requirement already satisfied: termcolor>=1.1.0 in /usr/local/lib/python3.6/dist-packages (from tensorflow===2.1.0) (1.1.0)\n",
            "Requirement already satisfied: wrapt>=1.11.1 in /usr/local/lib/python3.6/dist-packages (from tensorflow===2.1.0) (1.11.2)\n",
            "Requirement already satisfied: wheel>=0.26; python_version >= \"3\" in /usr/local/lib/python3.6/dist-packages (from tensorflow===2.1.0) (0.34.2)\n",
            "Requirement already satisfied: six>=1.12.0 in /usr/local/lib/python3.6/dist-packages (from tensorflow===2.1.0) (1.12.0)\n",
            "Requirement already satisfied: scipy==1.4.1; python_version >= \"3\" in /usr/local/lib/python3.6/dist-packages (from tensorflow===2.1.0) (1.4.1)\n",
            "Requirement already satisfied: keras-preprocessing>=1.1.0 in /usr/local/lib/python3.6/dist-packages (from tensorflow===2.1.0) (1.1.0)\n",
            "Requirement already satisfied: setuptools in /usr/local/lib/python3.6/dist-packages (from protobuf>=3.8.0->tensorflow===2.1.0) (45.1.0)\n",
            "Requirement already satisfied: h5py in /usr/local/lib/python3.6/dist-packages (from keras-applications>=1.0.8->tensorflow===2.1.0) (2.8.0)\n",
            "Requirement already satisfied: requests<3,>=2.21.0 in /usr/local/lib/python3.6/dist-packages (from tensorboard<2.2.0,>=2.1.0->tensorflow===2.1.0) (2.21.0)\n",
            "Requirement already satisfied: google-auth<2,>=1.6.3 in /usr/local/lib/python3.6/dist-packages (from tensorboard<2.2.0,>=2.1.0->tensorflow===2.1.0) (1.7.2)\n",
            "Requirement already satisfied: werkzeug>=0.11.15 in /usr/local/lib/python3.6/dist-packages (from tensorboard<2.2.0,>=2.1.0->tensorflow===2.1.0) (1.0.0)\n",
            "Requirement already satisfied: google-auth-oauthlib<0.5,>=0.4.1 in /usr/local/lib/python3.6/dist-packages (from tensorboard<2.2.0,>=2.1.0->tensorflow===2.1.0) (0.4.1)\n",
            "Requirement already satisfied: markdown>=2.6.8 in /usr/local/lib/python3.6/dist-packages (from tensorboard<2.2.0,>=2.1.0->tensorflow===2.1.0) (3.2.1)\n",
            "Requirement already satisfied: idna<2.9,>=2.5 in /usr/local/lib/python3.6/dist-packages (from requests<3,>=2.21.0->tensorboard<2.2.0,>=2.1.0->tensorflow===2.1.0) (2.8)\n",
            "Requirement already satisfied: certifi>=2017.4.17 in /usr/local/lib/python3.6/dist-packages (from requests<3,>=2.21.0->tensorboard<2.2.0,>=2.1.0->tensorflow===2.1.0) (2019.11.28)\n",
            "Requirement already satisfied: urllib3<1.25,>=1.21.1 in /usr/local/lib/python3.6/dist-packages (from requests<3,>=2.21.0->tensorboard<2.2.0,>=2.1.0->tensorflow===2.1.0) (1.24.3)\n",
            "Requirement already satisfied: chardet<3.1.0,>=3.0.2 in /usr/local/lib/python3.6/dist-packages (from requests<3,>=2.21.0->tensorboard<2.2.0,>=2.1.0->tensorflow===2.1.0) (3.0.4)\n",
            "Requirement already satisfied: rsa<4.1,>=3.1.4 in /usr/local/lib/python3.6/dist-packages (from google-auth<2,>=1.6.3->tensorboard<2.2.0,>=2.1.0->tensorflow===2.1.0) (4.0)\n",
            "Requirement already satisfied: cachetools<3.2,>=2.0.0 in /usr/local/lib/python3.6/dist-packages (from google-auth<2,>=1.6.3->tensorboard<2.2.0,>=2.1.0->tensorflow===2.1.0) (3.1.1)\n",
            "Requirement already satisfied: pyasn1-modules>=0.2.1 in /usr/local/lib/python3.6/dist-packages (from google-auth<2,>=1.6.3->tensorboard<2.2.0,>=2.1.0->tensorflow===2.1.0) (0.2.8)\n",
            "Requirement already satisfied: requests-oauthlib>=0.7.0 in /usr/local/lib/python3.6/dist-packages (from google-auth-oauthlib<0.5,>=0.4.1->tensorboard<2.2.0,>=2.1.0->tensorflow===2.1.0) (1.3.0)\n",
            "Requirement already satisfied: pyasn1>=0.1.3 in /usr/local/lib/python3.6/dist-packages (from rsa<4.1,>=3.1.4->google-auth<2,>=1.6.3->tensorboard<2.2.0,>=2.1.0->tensorflow===2.1.0) (0.4.8)\n",
            "Requirement already satisfied: oauthlib>=3.0.0 in /usr/local/lib/python3.6/dist-packages (from requests-oauthlib>=0.7.0->google-auth-oauthlib<0.5,>=0.4.1->tensorboard<2.2.0,>=2.1.0->tensorflow===2.1.0) (3.1.0)\n",
            "Requirement already satisfied: autokeras===1.0.1 in /usr/local/lib/python3.6/dist-packages (1.0.1)\n",
            "Requirement already satisfied: pandas in /usr/local/lib/python3.6/dist-packages (from autokeras===1.0.1) (0.25.3)\n",
            "Requirement already satisfied: keras-tuner>=1.0.1 in /usr/local/lib/python3.6/dist-packages (from autokeras===1.0.1) (1.0.1)\n",
            "Requirement already satisfied: numpy in /usr/local/lib/python3.6/dist-packages (from autokeras===1.0.1) (1.17.5)\n",
            "Requirement already satisfied: packaging in /usr/local/lib/python3.6/dist-packages (from autokeras===1.0.1) (20.1)\n",
            "Requirement already satisfied: scikit-learn in /usr/local/lib/python3.6/dist-packages (from autokeras===1.0.1) (0.22.1)\n",
            "Requirement already satisfied: pytz>=2017.2 in /usr/local/lib/python3.6/dist-packages (from pandas->autokeras===1.0.1) (2018.9)\n",
            "Requirement already satisfied: python-dateutil>=2.6.1 in /usr/local/lib/python3.6/dist-packages (from pandas->autokeras===1.0.1) (2.6.1)\n",
            "Requirement already satisfied: tqdm in /usr/local/lib/python3.6/dist-packages (from keras-tuner>=1.0.1->autokeras===1.0.1) (4.28.1)\n",
            "Requirement already satisfied: tabulate in /usr/local/lib/python3.6/dist-packages (from keras-tuner>=1.0.1->autokeras===1.0.1) (0.8.6)\n",
            "Requirement already satisfied: scipy in /usr/local/lib/python3.6/dist-packages (from keras-tuner>=1.0.1->autokeras===1.0.1) (1.4.1)\n",
            "Requirement already satisfied: requests in /usr/local/lib/python3.6/dist-packages (from keras-tuner>=1.0.1->autokeras===1.0.1) (2.21.0)\n",
            "Requirement already satisfied: colorama in /usr/local/lib/python3.6/dist-packages (from keras-tuner>=1.0.1->autokeras===1.0.1) (0.4.3)\n",
            "Requirement already satisfied: terminaltables in /usr/local/lib/python3.6/dist-packages (from keras-tuner>=1.0.1->autokeras===1.0.1) (3.1.0)\n",
            "Requirement already satisfied: future in /usr/local/lib/python3.6/dist-packages (from keras-tuner>=1.0.1->autokeras===1.0.1) (0.16.0)\n",
            "Requirement already satisfied: pyparsing>=2.0.2 in /usr/local/lib/python3.6/dist-packages (from packaging->autokeras===1.0.1) (2.4.6)\n",
            "Requirement already satisfied: six in /usr/local/lib/python3.6/dist-packages (from packaging->autokeras===1.0.1) (1.12.0)\n",
            "Requirement already satisfied: joblib>=0.11 in /usr/local/lib/python3.6/dist-packages (from scikit-learn->autokeras===1.0.1) (0.14.1)\n",
            "Requirement already satisfied: urllib3<1.25,>=1.21.1 in /usr/local/lib/python3.6/dist-packages (from requests->keras-tuner>=1.0.1->autokeras===1.0.1) (1.24.3)\n",
            "Requirement already satisfied: chardet<3.1.0,>=3.0.2 in /usr/local/lib/python3.6/dist-packages (from requests->keras-tuner>=1.0.1->autokeras===1.0.1) (3.0.4)\n",
            "Requirement already satisfied: certifi>=2017.4.17 in /usr/local/lib/python3.6/dist-packages (from requests->keras-tuner>=1.0.1->autokeras===1.0.1) (2019.11.28)\n",
            "Requirement already satisfied: idna<2.9,>=2.5 in /usr/local/lib/python3.6/dist-packages (from requests->keras-tuner>=1.0.1->autokeras===1.0.1) (2.8)\n"
          ],
          "name": "stdout"
        }
      ]
    },
    {
      "cell_type": "code",
      "metadata": {
        "id": "vvX52RQ5jpTQ",
        "colab_type": "code",
        "outputId": "9df93cba-eafd-40fa-e978-11132ded92b7",
        "colab": {
          "base_uri": "https://localhost:8080/",
          "height": 51
        }
      },
      "source": [
        "from keras.datasets import mnist\n",
        "# load MNIST train & test data\n",
        "(x_train, y_train), (x_test, y_test) = mnist.load_data()\n",
        "print(x_train.shape, x_test.shape)"
      ],
      "execution_count": 0,
      "outputs": [
        {
          "output_type": "stream",
          "text": [
            "Using TensorFlow backend.\n"
          ],
          "name": "stderr"
        },
        {
          "output_type": "stream",
          "text": [
            "(60000, 28, 28) (10000, 28, 28)\n"
          ],
          "name": "stdout"
        }
      ]
    },
    {
      "cell_type": "code",
      "metadata": {
        "id": "jf2_k1rBjqBx",
        "colab_type": "code",
        "outputId": "5da4c0e6-8b19-4236-dc00-f8eb1e1f22ca",
        "colab": {
          "base_uri": "https://localhost:8080/",
          "height": 297
        }
      },
      "source": [
        "# visualize train & test data\n",
        "%matplotlib inline\n",
        "import matplotlib.pyplot as plt\n",
        "_, train_canvas = plt.subplots(1,4)\n",
        "[x.imshow(x_train[i]) for i, x in enumerate(train_canvas)]\n",
        "_, test_canvas = plt.subplots(1,4)\n",
        "[x.imshow(x_test[i]) for i, x in enumerate(test_canvas)]"
      ],
      "execution_count": 0,
      "outputs": [
        {
          "output_type": "execute_result",
          "data": {
            "text/plain": [
              "[<matplotlib.image.AxesImage at 0x7ff7c385b9b0>,\n",
              " <matplotlib.image.AxesImage at 0x7ff7c364bc50>,\n",
              " <matplotlib.image.AxesImage at 0x7ff7c364bef0>,\n",
              " <matplotlib.image.AxesImage at 0x7ff7c365b1d0>]"
            ]
          },
          "metadata": {
            "tags": []
          },
          "execution_count": 3
        },
        {
          "output_type": "display_data",
          "data": {
            "image/png": "[encoded data removed]",
            "text/plain": [
              "<Figure size 432x288 with 4 Axes>"
            ]
          },
          "metadata": {
            "tags": []
          }
        },
        {
          "output_type": "display_data",
          "data": {
            "image/png": "[encoded data removed]",
            "text/plain": [
              "<Figure size 432x288 with 4 Axes>"
            ]
          },
          "metadata": {
            "tags": []
          }
        }
      ]
    },
    {
      "cell_type": "code",
      "metadata": {
        "id": "84EXOTGBm_1S",
        "colab_type": "code",
        "colab": {}
      },
      "source": [
        "from autokeras import ImageClassifier"
      ],
      "execution_count": 0,
      "outputs": []
    },
    {
      "cell_type": "code",
      "metadata": {
        "id": "v3p6yPlTnDk0",
        "colab_type": "code",
        "outputId": "fdfd6bd1-7af7-4667-f3e7-909ad4bacac1",
        "colab": {
          "base_uri": "https://localhost:8080/",
          "height": 1000
        }
      },
      "source": [
        "#clf = ImageClassifier()\n",
        "clf = ImageClassifier(max_trials=3)\n",
        "clf.fit(x_train, y_train)"
      ],
      "execution_count": 0,
      "outputs": [
        {
          "output_type": "stream",
          "text": [
            "Train for 1500 steps, validate for 375 steps\n",
            "Epoch 1/1000\n",
            "1500/1500 [==============================] - 12s 8ms/step - loss: 0.8230 - accuracy: 0.7186 - val_loss: 0.1364 - val_accuracy: 0.9614\n",
            "Epoch 2/1000\n",
            "1500/1500 [==============================] - 10s 7ms/step - loss: 0.3464 - accuracy: 0.8927 - val_loss: 0.0938 - val_accuracy: 0.9726\n",
            "Epoch 3/1000\n",
            "1500/1500 [==============================] - 10s 7ms/step - loss: 0.2796 - accuracy: 0.9115 - val_loss: 0.0793 - val_accuracy: 0.9778\n",
            "Epoch 4/1000\n",
            "1500/1500 [==============================] - 10s 7ms/step - loss: 0.2431 - accuracy: 0.9254 - val_loss: 0.0623 - val_accuracy: 0.9814\n",
            "Epoch 5/1000\n",
            "1500/1500 [==============================] - 10s 7ms/step - loss: 0.2200 - accuracy: 0.9316 - val_loss: 0.0604 - val_accuracy: 0.9835\n",
            "Epoch 6/1000\n",
            "1500/1500 [==============================] - 10s 7ms/step - loss: 0.2054 - accuracy: 0.9356 - val_loss: 0.0610 - val_accuracy: 0.9833\n",
            "Epoch 7/1000\n",
            "1500/1500 [==============================] - 10s 7ms/step - loss: 0.1903 - accuracy: 0.9410 - val_loss: 0.0516 - val_accuracy: 0.9869\n",
            "Epoch 8/1000\n",
            "1500/1500 [==============================] - 9s 6ms/step - loss: 0.1818 - accuracy: 0.9432 - val_loss: 0.0474 - val_accuracy: 0.9870\n",
            "Epoch 9/1000\n",
            "1500/1500 [==============================] - 9s 6ms/step - loss: 0.1685 - accuracy: 0.9461 - val_loss: 0.0443 - val_accuracy: 0.9872\n",
            "Epoch 10/1000\n",
            "1500/1500 [==============================] - 9s 6ms/step - loss: 0.1634 - accuracy: 0.9489 - val_loss: 0.0474 - val_accuracy: 0.9867\n",
            "Epoch 11/1000\n",
            "1500/1500 [==============================] - 9s 6ms/step - loss: 0.1542 - accuracy: 0.9526 - val_loss: 0.0439 - val_accuracy: 0.9872\n",
            "Epoch 12/1000\n",
            "1500/1500 [==============================] - 9s 6ms/step - loss: 0.1505 - accuracy: 0.9526 - val_loss: 0.0508 - val_accuracy: 0.9868\n",
            "Epoch 13/1000\n",
            "1500/1500 [==============================] - 9s 6ms/step - loss: 0.1425 - accuracy: 0.9549 - val_loss: 0.0463 - val_accuracy: 0.9870\n",
            "Epoch 14/1000\n",
            "1500/1500 [==============================] - 9s 6ms/step - loss: 0.1416 - accuracy: 0.9552 - val_loss: 0.0489 - val_accuracy: 0.9884\n",
            "Epoch 15/1000\n",
            "1500/1500 [==============================] - 9s 6ms/step - loss: 0.1370 - accuracy: 0.9578 - val_loss: 0.0431 - val_accuracy: 0.9887\n",
            "Epoch 16/1000\n",
            "1500/1500 [==============================] - 9s 6ms/step - loss: 0.1347 - accuracy: 0.9566 - val_loss: 0.0487 - val_accuracy: 0.9883\n",
            "Epoch 17/1000\n",
            "1500/1500 [==============================] - 10s 6ms/step - loss: 0.1270 - accuracy: 0.9611 - val_loss: 0.0432 - val_accuracy: 0.9893\n",
            "Epoch 18/1000\n",
            "1500/1500 [==============================] - 9s 6ms/step - loss: 0.1236 - accuracy: 0.9614 - val_loss: 0.0429 - val_accuracy: 0.9888\n",
            "Epoch 19/1000\n",
            "1500/1500 [==============================] - 9s 6ms/step - loss: 0.1162 - accuracy: 0.9630 - val_loss: 0.0432 - val_accuracy: 0.9891\n",
            "Epoch 20/1000\n",
            "1500/1500 [==============================] - 9s 6ms/step - loss: 0.1156 - accuracy: 0.9648 - val_loss: 0.0444 - val_accuracy: 0.9879\n",
            "Epoch 21/1000\n",
            "1500/1500 [==============================] - 9s 6ms/step - loss: 0.1097 - accuracy: 0.9665 - val_loss: 0.0417 - val_accuracy: 0.9888\n",
            "Epoch 22/1000\n",
            "1500/1500 [==============================] - 9s 6ms/step - loss: 0.1109 - accuracy: 0.9649 - val_loss: 0.0427 - val_accuracy: 0.9893\n",
            "Epoch 23/1000\n",
            "1500/1500 [==============================] - 9s 6ms/step - loss: 0.1075 - accuracy: 0.9669 - val_loss: 0.0541 - val_accuracy: 0.9879\n",
            "Epoch 24/1000\n",
            "1500/1500 [==============================] - 9s 6ms/step - loss: 0.1090 - accuracy: 0.9657 - val_loss: 0.0417 - val_accuracy: 0.9889\n",
            "Epoch 25/1000\n",
            "1500/1500 [==============================] - 9s 6ms/step - loss: 0.1025 - accuracy: 0.9671 - val_loss: 0.0384 - val_accuracy: 0.9906\n",
            "Epoch 26/1000\n",
            "1500/1500 [==============================] - 9s 6ms/step - loss: 0.1007 - accuracy: 0.9686 - val_loss: 0.0436 - val_accuracy: 0.9893\n",
            "Epoch 27/1000\n",
            "1500/1500 [==============================] - 11s 7ms/step - loss: 0.1003 - accuracy: 0.9690 - val_loss: 0.0473 - val_accuracy: 0.9887\n",
            "Epoch 28/1000\n",
            "1500/1500 [==============================] - 10s 7ms/step - loss: 0.1002 - accuracy: 0.9681 - val_loss: 0.0482 - val_accuracy: 0.9884\n",
            "Epoch 29/1000\n",
            "1500/1500 [==============================] - 10s 7ms/step - loss: 0.0948 - accuracy: 0.9700 - val_loss: 0.0364 - val_accuracy: 0.9905\n",
            "Epoch 30/1000\n",
            "1500/1500 [==============================] - 11s 7ms/step - loss: 0.0985 - accuracy: 0.9692 - val_loss: 0.0402 - val_accuracy: 0.9908\n",
            "Epoch 31/1000\n",
            "1500/1500 [==============================] - 10s 6ms/step - loss: 0.0968 - accuracy: 0.9689 - val_loss: 0.0441 - val_accuracy: 0.9894\n",
            "Epoch 32/1000\n",
            "1500/1500 [==============================] - 10s 7ms/step - loss: 0.0909 - accuracy: 0.9714 - val_loss: 0.0412 - val_accuracy: 0.9898\n",
            "Epoch 33/1000\n",
            "1500/1500 [==============================] - 10s 7ms/step - loss: 0.0924 - accuracy: 0.9705 - val_loss: 0.0427 - val_accuracy: 0.9900\n",
            "Epoch 34/1000\n",
            "1500/1500 [==============================] - 10s 7ms/step - loss: 0.0888 - accuracy: 0.9720 - val_loss: 0.0434 - val_accuracy: 0.9894\n",
            "Epoch 35/1000\n",
            "1500/1500 [==============================] - 10s 7ms/step - loss: 0.0900 - accuracy: 0.9713 - val_loss: 0.0408 - val_accuracy: 0.9910\n",
            "Epoch 36/1000\n",
            "1500/1500 [==============================] - 10s 7ms/step - loss: 0.0901 - accuracy: 0.9716 - val_loss: 0.0449 - val_accuracy: 0.9902\n",
            "Epoch 37/1000\n",
            "1500/1500 [==============================] - 9s 6ms/step - loss: 0.0844 - accuracy: 0.9728 - val_loss: 0.0498 - val_accuracy: 0.9898\n",
            "Epoch 38/1000\n",
            "1500/1500 [==============================] - 9s 6ms/step - loss: 0.0902 - accuracy: 0.9712 - val_loss: 0.0488 - val_accuracy: 0.9887\n",
            "Epoch 39/1000\n",
            "1500/1500 [==============================] - 9s 6ms/step - loss: 0.0821 - accuracy: 0.9739 - val_loss: 0.0471 - val_accuracy: 0.9889\n"
          ],
          "name": "stdout"
        },
        {
          "output_type": "display_data",
          "data": {
            "text/html": [
              "<span style=\"color:#4527A0\"><h1 style=\"font-size:18px\">Trial complete</h1></span>"
            ],
            "text/plain": [
              "<IPython.core.display.HTML object>"
            ]
          },
          "metadata": {
            "tags": []
          }
        },
        {
          "output_type": "display_data",
          "data": {
            "text/html": [
              "<span style=\"color:#4527A0\"><h1 style=\"font-size:18px\">Trial summary</h1></span>"
            ],
            "text/plain": [
              "<IPython.core.display.HTML object>"
            ]
          },
          "metadata": {
            "tags": []
          }
        },
        {
          "output_type": "display_data",
          "data": {
            "text/html": [
              "<span style=\"color:cyan\"> |-Trial ID: 2c75313379829e4fcbebf399fa22f16a</span>"
            ],
            "text/plain": [
              "<IPython.core.display.HTML object>"
            ]
          },
          "metadata": {
            "tags": []
          }
        },
        {
          "output_type": "display_data",
          "data": {
            "text/html": [
              "<span style=\"color:cyan\"> |-Score: 0.03640317017092214</span>"
            ],
            "text/plain": [
              "<IPython.core.display.HTML object>"
            ]
          },
          "metadata": {
            "tags": []
          }
        },
        {
          "output_type": "display_data",
          "data": {
            "text/html": [
              "<span style=\"color:cyan\"> |-Best step: 0</span>"
            ],
            "text/plain": [
              "<IPython.core.display.HTML object>"
            ]
          },
          "metadata": {
            "tags": []
          }
        },
        {
          "output_type": "display_data",
          "data": {
            "text/html": [
              "<span style=\"color:#7E57C2\"><h2 style=\"font-size:16px\">Hyperparameters:</h2></span>"
            ],
            "text/plain": [
              "<IPython.core.display.HTML object>"
            ]
          },
          "metadata": {
            "tags": []
          }
        },
        {
          "output_type": "display_data",
          "data": {
            "text/html": [
              "<span style=\"color:cyan\"> |-classification_head_1/dropout_rate: 0.5</span>"
            ],
            "text/plain": [
              "<IPython.core.display.HTML object>"
            ]
          },
          "metadata": {
            "tags": []
          }
        },
        {
          "output_type": "display_data",
          "data": {
            "text/html": [
              "<span style=\"color:blue\"> |-classification_head_1/spatial_reduction_1/reduction_type: global_avg</span>"
            ],
            "text/plain": [
              "<IPython.core.display.HTML object>"
            ]
          },
          "metadata": {
            "tags": []
          }
        },
        {
          "output_type": "display_data",
          "data": {
            "text/html": [
              "<span style=\"color:cyan\"> |-classification_head_1/spatial_reduction_2/reduction_type: global_avg</span>"
            ],
            "text/plain": [
              "<IPython.core.display.HTML object>"
            ]
          },
          "metadata": {
            "tags": []
          }
        },
        {
          "output_type": "display_data",
          "data": {
            "text/html": [
              "<span style=\"color:blue\"> |-dense_block_1/dropout_rate: 0</span>"
            ],
            "text/plain": [
              "<IPython.core.display.HTML object>"
            ]
          },
          "metadata": {
            "tags": []
          }
        },
        {
          "output_type": "display_data",
          "data": {
            "text/html": [
              "<span style=\"color:cyan\"> |-dense_block_1/num_layers: 1</span>"
            ],
            "text/plain": [
              "<IPython.core.display.HTML object>"
            ]
          },
          "metadata": {
            "tags": []
          }
        },
        {
          "output_type": "display_data",
          "data": {
            "text/html": [
              "<span style=\"color:blue\"> |-dense_block_1/units_0: 128</span>"
            ],
            "text/plain": [
              "<IPython.core.display.HTML object>"
            ]
          },
          "metadata": {
            "tags": []
          }
        },
        {
          "output_type": "display_data",
          "data": {
            "text/html": [
              "<span style=\"color:cyan\"> |-dense_block_1/use_batchnorm: False</span>"
            ],
            "text/plain": [
              "<IPython.core.display.HTML object>"
            ]
          },
          "metadata": {
            "tags": []
          }
        },
        {
          "output_type": "display_data",
          "data": {
            "text/html": [
              "<span style=\"color:blue\"> |-image_block_1/augment: False</span>"
            ],
            "text/plain": [
              "<IPython.core.display.HTML object>"
            ]
          },
          "metadata": {
            "tags": []
          }
        },
        {
          "output_type": "display_data",
          "data": {
            "text/html": [
              "<span style=\"color:cyan\"> |-image_block_1/block_type: vanilla</span>"
            ],
            "text/plain": [
              "<IPython.core.display.HTML object>"
            ]
          },
          "metadata": {
            "tags": []
          }
        },
        {
          "output_type": "display_data",
          "data": {
            "text/html": [
              "<span style=\"color:blue\"> |-image_block_1/conv_block_1/dropout_rate: 0</span>"
            ],
            "text/plain": [
              "<IPython.core.display.HTML object>"
            ]
          },
          "metadata": {
            "tags": []
          }
        },
        {
          "output_type": "display_data",
          "data": {
            "text/html": [
              "<span style=\"color:cyan\"> |-image_block_1/conv_block_1/filters_0_1: 32</span>"
            ],
            "text/plain": [
              "<IPython.core.display.HTML object>"
            ]
          },
          "metadata": {
            "tags": []
          }
        },
        {
          "output_type": "display_data",
          "data": {
            "text/html": [
              "<span style=\"color:blue\"> |-image_block_1/conv_block_1/filters_0_2: 32</span>"
            ],
            "text/plain": [
              "<IPython.core.display.HTML object>"
            ]
          },
          "metadata": {
            "tags": []
          }
        },
        {
          "output_type": "display_data",
          "data": {
            "text/html": [
              "<span style=\"color:cyan\"> |-image_block_1/conv_block_1/filters_1_1: 32</span>"
            ],
            "text/plain": [
              "<IPython.core.display.HTML object>"
            ]
          },
          "metadata": {
            "tags": []
          }
        },
        {
          "output_type": "display_data",
          "data": {
            "text/html": [
              "<span style=\"color:blue\"> |-image_block_1/conv_block_1/filters_1_2: 32</span>"
            ],
            "text/plain": [
              "<IPython.core.display.HTML object>"
            ]
          },
          "metadata": {
            "tags": []
          }
        },
        {
          "output_type": "display_data",
          "data": {
            "text/html": [
              "<span style=\"color:cyan\"> |-image_block_1/conv_block_1/kernel_size: 3</span>"
            ],
            "text/plain": [
              "<IPython.core.display.HTML object>"
            ]
          },
          "metadata": {
            "tags": []
          }
        },
        {
          "output_type": "display_data",
          "data": {
            "text/html": [
              "<span style=\"color:blue\"> |-image_block_1/conv_block_1/num_blocks: 2</span>"
            ],
            "text/plain": [
              "<IPython.core.display.HTML object>"
            ]
          },
          "metadata": {
            "tags": []
          }
        },
        {
          "output_type": "display_data",
          "data": {
            "text/html": [
              "<span style=\"color:cyan\"> |-image_block_1/conv_block_1/separable: False</span>"
            ],
            "text/plain": [
              "<IPython.core.display.HTML object>"
            ]
          },
          "metadata": {
            "tags": []
          }
        },
        {
          "output_type": "display_data",
          "data": {
            "text/html": [
              "<span style=\"color:blue\"> |-image_block_1/conv_block_2/dropout_rate: 0</span>"
            ],
            "text/plain": [
              "<IPython.core.display.HTML object>"
            ]
          },
          "metadata": {
            "tags": []
          }
        },
        {
          "output_type": "display_data",
          "data": {
            "text/html": [
              "<span style=\"color:cyan\"> |-image_block_1/conv_block_2/filters_0_1: 32</span>"
            ],
            "text/plain": [
              "<IPython.core.display.HTML object>"
            ]
          },
          "metadata": {
            "tags": []
          }
        },
        {
          "output_type": "display_data",
          "data": {
            "text/html": [
              "<span style=\"color:blue\"> |-image_block_1/conv_block_2/filters_0_2: 32</span>"
            ],
            "text/plain": [
              "<IPython.core.display.HTML object>"
            ]
          },
          "metadata": {
            "tags": []
          }
        },
        {
          "output_type": "display_data",
          "data": {
            "text/html": [
              "<span style=\"color:cyan\"> |-image_block_1/conv_block_2/filters_1_1: 32</span>"
            ],
            "text/plain": [
              "<IPython.core.display.HTML object>"
            ]
          },
          "metadata": {
            "tags": []
          }
        },
        {
          "output_type": "display_data",
          "data": {
            "text/html": [
              "<span style=\"color:blue\"> |-image_block_1/conv_block_2/filters_1_2: 32</span>"
            ],
            "text/plain": [
              "<IPython.core.display.HTML object>"
            ]
          },
          "metadata": {
            "tags": []
          }
        },
        {
          "output_type": "display_data",
          "data": {
            "text/html": [
              "<span style=\"color:cyan\"> |-image_block_1/conv_block_2/kernel_size: 3</span>"
            ],
            "text/plain": [
              "<IPython.core.display.HTML object>"
            ]
          },
          "metadata": {
            "tags": []
          }
        },
        {
          "output_type": "display_data",
          "data": {
            "text/html": [
              "<span style=\"color:blue\"> |-image_block_1/conv_block_2/num_blocks: 2</span>"
            ],
            "text/plain": [
              "<IPython.core.display.HTML object>"
            ]
          },
          "metadata": {
            "tags": []
          }
        },
        {
          "output_type": "display_data",
          "data": {
            "text/html": [
              "<span style=\"color:cyan\"> |-image_block_1/conv_block_2/separable: False</span>"
            ],
            "text/plain": [
              "<IPython.core.display.HTML object>"
            ]
          },
          "metadata": {
            "tags": []
          }
        },
        {
          "output_type": "display_data",
          "data": {
            "text/html": [
              "<span style=\"color:blue\"> |-image_block_1/normalize: True</span>"
            ],
            "text/plain": [
              "<IPython.core.display.HTML object>"
            ]
          },
          "metadata": {
            "tags": []
          }
        },
        {
          "output_type": "display_data",
          "data": {
            "text/html": [
              "<span style=\"color:cyan\"> |-image_block_1/vanilla_1/dropout_rate: 0.25</span>"
            ],
            "text/plain": [
              "<IPython.core.display.HTML object>"
            ]
          },
          "metadata": {
            "tags": []
          }
        },
        {
          "output_type": "display_data",
          "data": {
            "text/html": [
              "<span style=\"color:blue\"> |-image_block_1/vanilla_1/filters_0_1: 32</span>"
            ],
            "text/plain": [
              "<IPython.core.display.HTML object>"
            ]
          },
          "metadata": {
            "tags": []
          }
        },
        {
          "output_type": "display_data",
          "data": {
            "text/html": [
              "<span style=\"color:cyan\"> |-image_block_1/vanilla_1/filters_0_2: 64</span>"
            ],
            "text/plain": [
              "<IPython.core.display.HTML object>"
            ]
          },
          "metadata": {
            "tags": []
          }
        },
        {
          "output_type": "display_data",
          "data": {
            "text/html": [
              "<span style=\"color:blue\"> |-image_block_1/vanilla_1/kernel_size: 3</span>"
            ],
            "text/plain": [
              "<IPython.core.display.HTML object>"
            ]
          },
          "metadata": {
            "tags": []
          }
        },
        {
          "output_type": "display_data",
          "data": {
            "text/html": [
              "<span style=\"color:cyan\"> |-image_block_1/vanilla_1/num_blocks: 1</span>"
            ],
            "text/plain": [
              "<IPython.core.display.HTML object>"
            ]
          },
          "metadata": {
            "tags": []
          }
        },
        {
          "output_type": "display_data",
          "data": {
            "text/html": [
              "<span style=\"color:blue\"> |-image_block_1/vanilla_1/separable: False</span>"
            ],
            "text/plain": [
              "<IPython.core.display.HTML object>"
            ]
          },
          "metadata": {
            "tags": []
          }
        },
        {
          "output_type": "display_data",
          "data": {
            "text/html": [
              "<span style=\"color:cyan\"> |-optimizer: adam</span>"
            ],
            "text/plain": [
              "<IPython.core.display.HTML object>"
            ]
          },
          "metadata": {
            "tags": []
          }
        },
        {
          "output_type": "display_data",
          "data": {
            "text/html": [
              "<span style=\"color:blue\"> |-spatial_reduction_1/reduction_type: flatten</span>"
            ],
            "text/plain": [
              "<IPython.core.display.HTML object>"
            ]
          },
          "metadata": {
            "tags": []
          }
        },
        {
          "output_type": "stream",
          "text": [
            "Train for 1500 steps, validate for 375 steps\n",
            "Epoch 1/1000\n",
            "1500/1500 [==============================] - 68s 45ms/step - loss: 0.2376 - accuracy: 0.9354 - val_loss: 0.2434 - val_accuracy: 0.9122\n",
            "Epoch 2/1000\n",
            "1500/1500 [==============================] - 61s 41ms/step - loss: 0.1080 - accuracy: 0.9720 - val_loss: 0.8110 - val_accuracy: 0.8864\n",
            "Epoch 3/1000\n",
            "1500/1500 [==============================] - 65s 43ms/step - loss: 0.1019 - accuracy: 0.9734 - val_loss: 0.1401 - val_accuracy: 0.9587\n",
            "Epoch 4/1000\n",
            "1500/1500 [==============================] - 64s 43ms/step - loss: 0.0697 - accuracy: 0.9809 - val_loss: 0.0795 - val_accuracy: 0.9811\n",
            "Epoch 5/1000\n",
            "1500/1500 [==============================] - 62s 42ms/step - loss: 0.0806 - accuracy: 0.9802 - val_loss: 0.0652 - val_accuracy: 0.9803\n",
            "Epoch 6/1000\n",
            "1500/1500 [==============================] - 61s 41ms/step - loss: 0.0464 - accuracy: 0.9870 - val_loss: 0.1476 - val_accuracy: 0.9719\n",
            "Epoch 7/1000\n",
            "1500/1500 [==============================] - 61s 41ms/step - loss: 0.0591 - accuracy: 0.9841 - val_loss: 0.0756 - val_accuracy: 0.9812\n",
            "Epoch 8/1000\n",
            "1500/1500 [==============================] - 66s 44ms/step - loss: 0.0777 - accuracy: 0.9816 - val_loss: 0.0459 - val_accuracy: 0.9883\n",
            "Epoch 9/1000\n",
            "1500/1500 [==============================] - 63s 42ms/step - loss: 0.0357 - accuracy: 0.9900 - val_loss: 0.0659 - val_accuracy: 0.9858\n",
            "Epoch 10/1000\n",
            "1500/1500 [==============================] - 61s 41ms/step - loss: 0.0261 - accuracy: 0.9919 - val_loss: 0.0661 - val_accuracy: 0.9844\n",
            "Epoch 11/1000\n",
            "1500/1500 [==============================] - 61s 41ms/step - loss: 0.0283 - accuracy: 0.9912 - val_loss: 0.0513 - val_accuracy: 0.9875\n",
            "Epoch 12/1000\n",
            "1500/1500 [==============================] - 61s 41ms/step - loss: 0.0256 - accuracy: 0.9927 - val_loss: 0.0674 - val_accuracy: 0.9841\n",
            "Epoch 13/1000\n",
            "1500/1500 [==============================] - 67s 45ms/step - loss: 0.0204 - accuracy: 0.9940 - val_loss: 0.0577 - val_accuracy: 0.9856\n",
            "Epoch 14/1000\n",
            "1500/1500 [==============================] - 64s 42ms/step - loss: 0.0191 - accuracy: 0.9941 - val_loss: 0.0447 - val_accuracy: 0.9890\n",
            "Epoch 15/1000\n",
            "1500/1500 [==============================] - 61s 41ms/step - loss: 0.0161 - accuracy: 0.9953 - val_loss: 0.0536 - val_accuracy: 0.9874\n",
            "Epoch 16/1000\n",
            "1500/1500 [==============================] - 66s 44ms/step - loss: 0.0155 - accuracy: 0.9957 - val_loss: 0.0425 - val_accuracy: 0.9902\n",
            "Epoch 17/1000\n",
            " 497/1500 [========>.....................]Buffered data was truncated after reaching the output size limit."
          ],
          "name": "stdout"
        }
      ]
    },
    {
      "cell_type": "code",
      "metadata": {
        "id": "MWbNnIBkHi57",
        "colab_type": "code",
        "outputId": "dae998e8-fcac-41c9-baf0-5e84d588468c",
        "colab": {
          "base_uri": "https://localhost:8080/",
          "height": 479
        }
      },
      "source": [
        "predicted_y = clf.predict(x_test)\n",
        "print(clf.evaluate(x_test, y_test))"
      ],
      "execution_count": 0,
      "outputs": [
        {
          "output_type": "stream",
          "text": [
            "WARNING:tensorflow:Unresolved object in checkpoint: (root).optimizer.iter\n",
            "WARNING:tensorflow:Unresolved object in checkpoint: (root).optimizer.beta_1\n",
            "WARNING:tensorflow:Unresolved object in checkpoint: (root).optimizer.beta_2\n",
            "WARNING:tensorflow:Unresolved object in checkpoint: (root).optimizer.decay\n",
            "WARNING:tensorflow:Unresolved object in checkpoint: (root).optimizer.learning_rate\n",
            "WARNING:tensorflow:A checkpoint was restored (e.g. tf.train.Checkpoint.restore or tf.keras.Model.load_weights) but not all checkpointed values were used. See above for specific issues. Use expect_partial() on the load status object, e.g. tf.train.Checkpoint.restore(...).expect_partial(), to silence these warnings, or use assert_consumed() to make the check explicit. See https://www.tensorflow.org/guide/checkpoint#loading_mechanics for details.\n",
            "WARNING:tensorflow:Unresolved object in checkpoint: (root).optimizer.iter\n",
            "WARNING:tensorflow:Unresolved object in checkpoint: (root).optimizer.beta_1\n",
            "WARNING:tensorflow:Unresolved object in checkpoint: (root).optimizer.beta_2\n",
            "WARNING:tensorflow:Unresolved object in checkpoint: (root).optimizer.decay\n",
            "WARNING:tensorflow:Unresolved object in checkpoint: (root).optimizer.learning_rate\n",
            "WARNING:tensorflow:A checkpoint was restored (e.g. tf.train.Checkpoint.restore or tf.keras.Model.load_weights) but not all checkpointed values were used. See above for specific issues. Use expect_partial() on the load status object, e.g. tf.train.Checkpoint.restore(...).expect_partial(), to silence these warnings, or use assert_consumed() to make the check explicit. See https://www.tensorflow.org/guide/checkpoint#loading_mechanics for details.\n",
            "WARNING:tensorflow:Unresolved object in checkpoint: (root).optimizer.iter\n",
            "WARNING:tensorflow:Unresolved object in checkpoint: (root).optimizer.beta_1\n",
            "WARNING:tensorflow:Unresolved object in checkpoint: (root).optimizer.beta_2\n",
            "WARNING:tensorflow:Unresolved object in checkpoint: (root).optimizer.decay\n",
            "WARNING:tensorflow:Unresolved object in checkpoint: (root).optimizer.learning_rate\n",
            "WARNING:tensorflow:A checkpoint was restored (e.g. tf.train.Checkpoint.restore or tf.keras.Model.load_weights) but not all checkpointed values were used. See above for specific issues. Use expect_partial() on the load status object, e.g. tf.train.Checkpoint.restore(...).expect_partial(), to silence these warnings, or use assert_consumed() to make the check explicit. See https://www.tensorflow.org/guide/checkpoint#loading_mechanics for details.\n",
            "WARNING:tensorflow:Unresolved object in checkpoint: (root).optimizer.iter\n",
            "WARNING:tensorflow:Unresolved object in checkpoint: (root).optimizer.beta_1\n",
            "WARNING:tensorflow:Unresolved object in checkpoint: (root).optimizer.beta_2\n",
            "WARNING:tensorflow:Unresolved object in checkpoint: (root).optimizer.decay\n",
            "WARNING:tensorflow:Unresolved object in checkpoint: (root).optimizer.learning_rate\n",
            "WARNING:tensorflow:A checkpoint was restored (e.g. tf.train.Checkpoint.restore or tf.keras.Model.load_weights) but not all checkpointed values were used. See above for specific issues. Use expect_partial() on the load status object, e.g. tf.train.Checkpoint.restore(...).expect_partial(), to silence these warnings, or use assert_consumed() to make the check explicit. See https://www.tensorflow.org/guide/checkpoint#loading_mechanics for details.\n",
            "313/313 [==============================] - 5s 17ms/step - loss: 2.3012 - accuracy: 0.1135\n",
            "[2.301162937578683, 0.1135]\n"
          ],
          "name": "stdout"
        }
      ]
    }
  ]
}